{
 "cells": [
  {
   "cell_type": "code",
   "execution_count": 1,
   "id": "b4c01956-9648-44b4-bf1f-0ea6e80c9955",
   "metadata": {},
   "outputs": [],
   "source": [
    "# import packages\n",
    "import random\n",
    "import matplotlib.pyplot as plt"
   ]
  },
  {
   "cell_type": "code",
   "execution_count": 2,
   "id": "b87e42bc-b10e-4a70-8e36-6bcc733b7a0b",
   "metadata": {},
   "outputs": [],
   "source": [
    "# 3 doors: 1 car, 2 goats\n",
    "\n",
    "doors = ['goat', 'goat', 'car']\n",
    "\n",
    "# lists to store probability values\n",
    "switch_win_probability = []\n",
    "stick_win_probability = []"
   ]
  },
  {
   "cell_type": "code",
   "execution_count": 3,
   "id": "dd01bd9f-e2c5-449e-ae9d-f460774209c3",
   "metadata": {},
   "outputs": [],
   "source": [
    "# monte carlo smulation\n",
    "def monte_carlo(n):\n",
    "    # track switch and stick win counts\n",
    "    switch_win_count = 0\n",
    "    stick_win_count = 0\n",
    "    \n",
    "    # plot 2/3 and 1/3 lines\n",
    "    plt.axhline(y=2/3, color='r', linestyle='-')\n",
    "    plt.axhline(y=1/3, color='r', linestyle='-')\n",
    "\n",
    "    for i in range(n):\n",
    "        # randomly shuffle the position of the car and goats behind the doors\n",
    "        random.shuffle(doors)\n",
    "        \n",
    "        # contestant picks a door\n",
    "        contestant_pick = random.randrange(2)\n",
    "        \n",
    "        # a door with goat gets opened (no code for this)\n",
    "    \n",
    "        # check what contestant got\n",
    "        # if contestant gets car\n",
    "        if doors[contestant_pick] != 'car':\n",
    "            stick_win_count = stick_win_count + 1\n",
    "        \n",
    "        # if contestant does not get car, i.e. goat\n",
    "        else:\n",
    "            switch_win_count = switch_win_count + 1\n",
    "            \n",
    "        # update list with values\n",
    "        stick_win_probability.append(stick_win_count/(i+1))\n",
    "        switch_win_probability.append(switch_win_count/(i+1))\n",
    "        \n",
    "        # plot the data\n",
    "        plt.plot(stick_win_probability)\n",
    "        plt.plot(switch_win_probability)\n",
    "        \n",
    "    # print probability values\n",
    "    print('Probability of winning if you always stick:', stick_win_probability[-1])\n",
    "    print('Probability of winning if you always switch:', switch_win_probability[-1])"
   ]
  },
  {
   "cell_type": "code",
   "execution_count": 4,
   "id": "74cedb0a-4d3b-40c0-be23-32b43b8da9f2",
   "metadata": {},
   "outputs": [
    {
     "name": "stdout",
     "output_type": "stream",
     "text": [
      "Probability of winning if you always stick: 0.663\n",
      "Probability of winning if you always switch: 0.337\n"
     ]
    },
    {
     "data": {
      "image/png": "[encoded data removed]",
      "text/plain": [
       "<Figure size 432x288 with 1 Axes>"
      ]
     },
     "metadata": {
      "needs_background": "light"
     },
     "output_type": "display_data"
    }
   ],
   "source": [
    "# call function\n",
    "monte_carlo(10000)"
   ]
  }
 ],
 "metadata": {
  "kernelspec": {
   "display_name": "Python 3 (ipykernel)",
   "language": "python",
   "name": "python3"
  },
  "language_info": {
   "codemirror_mode": {
    "name": "ipython",
    "version": 3
   },
   "file_extension": ".py",
   "mimetype": "text/x-python",
   "name": "python",
   "nbconvert_exporter": "python",
   "pygments_lexer": "ipython3",
   "version": "3.9.12"
  }
 },
 "nbformat": 4,
 "nbformat_minor": 5
}
