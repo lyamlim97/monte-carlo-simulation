{
 "cells": [
  {
   "cell_type": "code",
   "execution_count": 1,
   "id": "f5432624-cc52-49c7-9a64-82499124195f",
   "metadata": {},
   "outputs": [],
   "source": [
    "# import packages\n",
    "import numpy as np\n",
    "import random\n",
    "import matplotlib.pyplot as plt"
   ]
  },
  {
   "cell_type": "code",
   "execution_count": 2,
   "id": "03a2c62c-422c-4c20-92fb-179bed0361e5",
   "metadata": {},
   "outputs": [],
   "source": [
    "# coin flip function\n",
    "# 0 -> heads\n",
    "# 1 -> tails\n",
    "def flip_coin():\n",
    "    return random.randint(0,1)"
   ]
  },
  {
   "cell_type": "code",
   "execution_count": 3,
   "id": "db1165ec-30c1-4c8e-b224-4def8726dc69",
   "metadata": {},
   "outputs": [
    {
     "data": {
      "text/plain": [
       "1"
      ]
     },
     "execution_count": 3,
     "metadata": {},
     "output_type": "execute_result"
    }
   ],
   "source": [
    "# check output of flip_coin()\n",
    "flip_coin()"
   ]
  },
  {
   "cell_type": "code",
   "execution_count": 4,
   "id": "a6f9854c-fc90-407c-8b47-2b06c94799c0",
   "metadata": {},
   "outputs": [],
   "source": [
    "# monte carlo simulation\n",
    "\n",
    "def monte_carlo(n):\n",
    "    prob_list = []\n",
    "    results_sum = 0\n",
    "    \n",
    "    for i in range(n):\n",
    "        flip_result = flip_coin()\n",
    "        results_sum = results_sum + flip_result\n",
    "        \n",
    "        # calculate probability\n",
    "        # (i + 1) as range starts from 0, n = i + 1\n",
    "        prob_val = results_sum / (i + 1)\n",
    "        \n",
    "        # append probability to the list\n",
    "        prob_list.append(prob_val)\n",
    "        \n",
    "        # plot results\n",
    "        plt.axhline(y=0.5, color='r', linestyle='-')\n",
    "        plt.xlabel('Iterations')\n",
    "        plt.ylabel('Probability')\n",
    "        plt.plot(prob_list)\n",
    "    \n",
    "    return results_sum/n"
   ]
  },
  {
   "cell_type": "code",
   "execution_count": 5,
   "id": "6a9024f4-729a-4d96-8632-ee0cc9fed42f",
   "metadata": {},
   "outputs": [
    {
     "data": {
      "text/plain": [
       "0.489"
      ]
     },
     "execution_count": 5,
     "metadata": {},
     "output_type": "execute_result"
    },
    {
     "data": {
      "image/png": "[encoded data removed]",
      "text/plain": [
       "<Figure size 432x288 with 1 Axes>"
      ]
     },
     "metadata": {
      "needs_background": "light"
     },
     "output_type": "display_data"
    }
   ],
   "source": [
    "# call the function\n",
    "monte_carlo(2000)"
   ]
  }
 ],
 "metadata": {
  "kernelspec": {
   "display_name": "Python 3 (ipykernel)",
   "language": "python",
   "name": "python3"
  },
  "language_info": {
   "codemirror_mode": {
    "name": "ipython",
    "version": 3
   },
   "file_extension": ".py",
   "mimetype": "text/x-python",
   "name": "python",
   "nbconvert_exporter": "python",
   "pygments_lexer": "ipython3",
   "version": "3.9.12"
  }
 },
 "nbformat": 4,
 "nbformat_minor": 5
}
